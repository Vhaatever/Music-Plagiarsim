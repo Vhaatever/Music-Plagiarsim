{
  "cells": [
    {
      "cell_type": "markdown",
      "metadata": {
        "id": "view-in-github",
        "colab_type": "text"
      },
      "source": [
        "<a href=\"https://colab.research.google.com/github/Vhaatever/Music-Plagiarsim/blob/main/Music_Plagiarism_using_Siamese_Networks.ipynb\" target=\"_parent\"><img src=\"https://colab.research.google.com/assets/colab-badge.svg\" alt=\"Open In Colab\"/></a>"
      ]
    },
    {
      "cell_type": "code",
      "execution_count": null,
      "metadata": {
        "colab": {
          "base_uri": "https://localhost:8080/"
        },
        "id": "3rPZJq5O5SE_",
        "outputId": "4e3c9f73-d19f-41d5-cbee-fa857b1a9b42"
      },
      "outputs": [
        {
          "output_type": "stream",
          "name": "stdout",
          "text": [
            "Mounted at /content/drive\n"
          ]
        }
      ],
      "source": [
        "from google.colab import drive\n",
        "drive.mount('/content/drive')"
      ]
    },
    {
      "cell_type": "code",
      "execution_count": null,
      "metadata": {
        "id": "wLrvuYP_5B7r"
      },
      "outputs": [],
      "source": [
        "import numpy as np\n",
        "import matplotlib.pyplot as plt\n",
        "import librosa\n",
        "import os\n",
        "import time\n",
        "from scipy.optimize import linear_sum_assignment\n",
        "from sklearn.preprocessing import StandardScaler\n",
        "scaler = StandardScaler()\n",
        "from keras.layers import Input, Dense, InputLayer, Conv2D, MaxPooling2D, UpSampling2D, InputLayer, Concatenate, Flatten, Reshape, Lambda, Embedding, dot\n",
        "from keras.models import Model, load_model, Sequential\n",
        "import matplotlib.pyplot as plt\n",
        "\n",
        "from sklearn.model_selection import train_test_split\n",
        "import tensorflow as tf\n",
        "from tensorflow.keras.models import Model\n",
        "from tensorflow.keras.layers import Input, Flatten, Dense, Dropout, Lambda\n",
        "from tensorflow.keras.optimizers import RMSprop\n",
        "from tensorflow.keras import backend as K\n",
        "import math\n",
        "import collections\n",
        "#Applying LLE\n",
        "from tempfile import TemporaryFile\n",
        "outfile = TemporaryFile()"
      ]
    },
    {
      "cell_type": "code",
      "execution_count": null,
      "metadata": {
        "id": "S5rVbOOIFp9A"
      },
      "outputs": [],
      "source": [
        "def split_into_pieces(self, word_length ,overlap_rate):\n",
        "    pieces=[]\n",
        "    self.word_length=word_length\n",
        "    self.overlap_rate=overlap_rate\n",
        "    \n",
        "    overlap=int(word_length*overlap_rate)\n",
        "    jump= word_length-overlap\n",
        "    idx=0\n",
        "    while(idx < len(self.features[:,0])):\n",
        "      if idx + word_length <= len(self.features[:,0]):\n",
        "        pieces.append(self.features[idx:idx+word_length])\n",
        "      else:\n",
        "        pieces.append(self.features[idx:])\n",
        "      idx += jump\n",
        "    self.pieces=pieces\n",
        "    self.num_words=len(self.pieces)\n",
        "    self.num_letters=len(self.pieces[0])\n",
        "    self.num_features=len(self.pieces[0][0])\n",
        "\n",
        "def take_sub_string(self, num):\n",
        "  self.pieces=self.pieces[:num]\n",
        "  self.num_words=len(self.pieces)\n",
        "  self.num_letters=len(self.pieces[0])\n",
        "  self.num_features=len(self.pieces[0][0])\n",
        "  print(\"Number of words- %d\" % len(self.pieces))\n",
        "  print(\"Number of letters- %d\" % len(self.pieces[0]))\n",
        "  print(\"Number of features- %d\" % len(self.pieces[0][0]))\n",
        "\n",
        "#Individual features \n",
        "def spectrogram(x):\n",
        "  X = librosa.stft(x)\n",
        "  Xdb = librosa.amplitude_to_db(abs(X))\n",
        "  return Xdb.transpose()\n",
        "\n",
        "class Music:\n",
        "  def __init__(self, path, input_index):\n",
        "   if path is None:\n",
        "    return\n",
        "   self.index=input_index\n",
        "   self.name = path\n",
        "   features =extract_all(self.name)\n",
        "   self.features=features\n",
        "   print(self.index)\n",
        "   \n",
        "       \n",
        "def sliding_window(iterable, n):\n",
        "    it = iter(iterable)\n",
        "    window = collections.deque(itertools.islice(it, n), maxlen=n)\n",
        "    if len(window) == n:\n",
        "        yield tuple(window)\n",
        "    for x in it:\n",
        "        window.append(x)\n",
        "        yield tuple(window)\n",
        "\n",
        "def extract_all(name):\n",
        "    x,sr= librosa.load(name)\n",
        "    output= librosa.stft(x)\n",
        "    output=librosa.power_to_db(np.abs(output)**2)\n",
        "    scaler.fit_transform(output)\n",
        "    output = scaler.transform(output)\n",
        "    return output"
      ]
    },
    {
      "cell_type": "code",
      "execution_count": null,
      "metadata": {
        "colab": {
          "base_uri": "https://localhost:8080/"
        },
        "id": "RcYMcj2TDpYr",
        "outputId": "4699ad3a-341a-493f-9e4e-2d99ea7c4bf4"
      },
      "outputs": [
        {
          "output_type": "stream",
          "name": "stdout",
          "text": [
            "0\n",
            "1. Len Barry 1-2-3. - Feature Extracted\n",
            "Time taken to extract features 10.587281942367554\n",
            "1\n",
            "1. THE SUPREMES ask any girl. - Feature Extracted\n",
            "Time taken to extract features 12.295728206634521\n",
            "2\n",
            "2. Chuck Berry 'Sweet Little Sixteen'. - Feature Extracted\n",
            "Time taken to extract features 12.404158592224121\n",
            "3\n",
            "2. The Beach Boys - Surfin' USA. - Feature Extracted\n",
            "Time taken to extract features 10.62494158744812\n",
            "4\n",
            "3. All You Need Is Love (Remastered 2009). - Feature Extracted\n",
            "Time taken to extract features 14.029407739639282\n",
            "Time taken for feature extraction59.9415180683136\n",
            "Average Time taken for feature extraction11.988303613662719\n"
          ]
        }
      ],
      "source": [
        "\n",
        "#Driver methods\n",
        "data_path='drive/MyDrive/Songs for SOP/'\n",
        "extracted=0\n",
        "musics = []\n",
        "i=0\n",
        "\n",
        "max_songs=5\n",
        "time_feature=0\n",
        "\n",
        "import re\n",
        "numbers = re.compile(r'(\\d+)')\n",
        "def numericalSort(value):\n",
        "    parts = numbers.split(value)\n",
        "    parts[1::2] = map(int, parts[1::2])\n",
        "    return parts\n",
        "\n",
        "if(extracted==0):\n",
        "    files = os.listdir(data_path)\n",
        "    file_num = len(files)\n",
        "    \n",
        "    for file in sorted(files, key=numericalSort):\n",
        "      if(i<max_songs):\n",
        "        start=time.time()\n",
        "        music = Music(data_path + file, i)\n",
        "        end=time.time()\n",
        "        print(file[:-3]+\" - Feature Extracted\")\n",
        "        print(f\"Time taken to extract features {end - start}\")\n",
        "        time_feature=time_feature+(end-start)\n",
        "        musics.append(music)\n",
        "        i=i+1\n",
        "        temp=music.name.split(\"/\")\n",
        "        music.name=temp[3]\n",
        "        #file_name= \"drive/MyDrive/Extracted Songs/\"+music.name\n",
        "        \n",
        "        #np.save(file_name, music.features)\n",
        "    print(f\"Time taken for feature extraction{time_feature}\")\n",
        "    print(f\"Average Time taken for feature extraction{time_feature/i}\")\n",
        "else:\n",
        "   no=0\n"
      ]
    },
    {
      "cell_type": "code",
      "execution_count": null,
      "metadata": {
        "id": "61cp4iOKO7U9"
      },
      "outputs": [],
      "source": [
        "import itertools\n",
        "numbers=range(len(musics))\n",
        "negative = list(itertools.combinations(numbers, 2))\n",
        "positive_temp= list(sliding_window(numbers, 2))\n",
        "positive=positive_temp[::2]\n",
        "for element in positive:\n",
        "  negative.remove(element)"
      ]
    },
    {
      "cell_type": "code",
      "execution_count": null,
      "metadata": {
        "id": "1uuctaHt_maI"
      },
      "outputs": [],
      "source": [
        "#find the minimum length\n",
        "min=len(musics[0].features[0])\n",
        "for m in musics:\n",
        "  temp=len(m.features[0])\n",
        "  if(min>temp):\n",
        "    min=temp\n",
        "    \n",
        "\n",
        "last=min\n",
        "input_X1=[]\n",
        "input_X2=[]\n",
        "labelling=[]\n",
        "for fname in positive :\n",
        "    m = musics[fname[0]]\n",
        "    input_X1.append(m.features[:,:last])\n",
        "    m = musics[fname[1]]\n",
        "    input_X2.append(m.features[:,:last])\n",
        "    labelling.append(1)\n",
        "\n",
        "for fname in negative :\n",
        "    m = musics[fname[0]]\n",
        "    input_X1.append(m.features[:,:last])\n",
        "    m = musics[fname[1]]\n",
        "    input_X2.append(m.features[:,:last])\n",
        "    labelling.append(0)\n"
      ]
    },
    {
      "cell_type": "code",
      "execution_count": null,
      "metadata": {
        "colab": {
          "base_uri": "https://localhost:8080/"
        },
        "id": "23EAsDAxBKnJ",
        "outputId": "fdd28af6-dcad-40f6-9775-cd743609d470"
      },
      "outputs": [
        {
          "output_type": "execute_result",
          "data": {
            "text/plain": [
              "6317"
            ]
          },
          "metadata": {},
          "execution_count": 7
        }
      ],
      "source": [
        "min"
      ]
    },
    {
      "cell_type": "code",
      "execution_count": null,
      "metadata": {
        "id": "ush6pSX6Jw4p"
      },
      "outputs": [],
      "source": [
        "input_X1_mod=np.array(input_X1)\n",
        "input_X2_mod=np.array(input_X2)\n",
        "labelling_mod=np.array(labelling) \n"
      ]
    },
    {
      "cell_type": "code",
      "execution_count": null,
      "metadata": {
        "id": "fa39dtQu_xXc",
        "colab": {
          "base_uri": "https://localhost:8080/",
          "height": 54
        },
        "outputId": "c7536bff-254b-43ed-a424-0c048388484e"
      },
      "outputs": [
        {
          "output_type": "execute_result",
          "data": {
            "text/plain": [
              "'\\nfile_name_1= \"drive/MyDrive/Extracted Songs/input_X1\"\\nfile_name_2= \"drive/MyDrive/Extracted Songs/input_X2\"\\nfile_name_3= \"drive/MyDrive/Extracted Songs/labelling\"\\n\\nnp.save(file_name_1, input_X1_mod)\\nnp.save(file_name_2, input_X2_mod)\\nnp.save(file_name_3, labelling_mod)\\n'"
            ],
            "application/vnd.google.colaboratory.intrinsic+json": {
              "type": "string"
            }
          },
          "metadata": {},
          "execution_count": 9
        }
      ],
      "source": [
        "'''\n",
        "file_name_1= \"drive/MyDrive/Extracted Songs/input_X1\"\n",
        "file_name_2= \"drive/MyDrive/Extracted Songs/input_X2\"\n",
        "file_name_3= \"drive/MyDrive/Extracted Songs/labelling\"\n",
        "\n",
        "np.save(file_name_1, input_X1_mod)\n",
        "np.save(file_name_2, input_X2_mod)\n",
        "np.save(file_name_3, labelling_mod)\n",
        "'''"
      ]
    },
    {
      "cell_type": "code",
      "source": [
        "'''\n",
        "import numpy as np\n",
        " file_name_1= \"drive/MyDrive/Extracted Songs/input_X1.npy\" file_name_2= \"drive/MyDrive/Extracted Songs/input_X2.npy\" file_name_3= \"drive/MyDrive/Extracted Songs/labelling.npy\"\n",
        "\n",
        "input_X1_mod=np.load(file_name_1) input_X2_mod=np.load(file_name_2) labelling_mod=np.load(file_name_3)\n",
        "\n",
        "min=1000\n",
        "\n",
        "'''"
      ],
      "metadata": {
        "colab": {
          "base_uri": "https://localhost:8080/",
          "height": 54
        },
        "id": "YwHYKpBcdl5E",
        "outputId": "df9e9ec0-56ce-42e0-e178-6b67f278892b"
      },
      "execution_count": null,
      "outputs": [
        {
          "output_type": "execute_result",
          "data": {
            "text/plain": [
              "'\\nimport numpy as np\\n file_name_1= \"drive/MyDrive/Extracted Songs/input_X1.npy\" file_name_2= \"drive/MyDrive/Extracted Songs/input_X2.npy\" file_name_3= \"drive/MyDrive/Extracted Songs/labelling.npy\"\\n\\ninput_X1_mod=np.load(file_name_1) input_X2_mod=np.load(file_name_2) labelling_mod=np.load(file_name_3)\\n\\nmin=1000\\n\\n'"
            ],
            "application/vnd.google.colaboratory.intrinsic+json": {
              "type": "string"
            }
          },
          "metadata": {},
          "execution_count": 10
        }
      ]
    },
    {
      "cell_type": "markdown",
      "source": [
        "import numpy as np\n",
        "file_name_1= \"drive/MyDrive/Extracted Songs/input_X1.npy\"\n",
        "file_name_2= \"drive/MyDrive/Extracted Songs/input_X2.npy\"\n",
        "file_name_3= \"drive/MyDrive/Extracted Songs/labelling.npy\"\n",
        "\n",
        "input_X1_mod=np.load(file_name_1)\n",
        "input_X2_mod=np.load(file_name_2)\n",
        "labelling_mod=np.load(file_name_3)\n",
        "\n",
        "min=5253"
      ],
      "metadata": {
        "id": "VpZhdsQg3oeZ"
      }
    },
    {
      "cell_type": "code",
      "execution_count": null,
      "metadata": {
        "id": "lhXDWK7EIUZc"
      },
      "outputs": [],
      "source": [
        "def split_into_pieces(string,word_length,overlap_rate):\n",
        "    pieces=[]\n",
        "    overlap=int(word_length*overlap_rate)\n",
        "    jump= word_length-overlap\n",
        "    idx=0\n",
        "    while(idx < len(string[:,0])):\n",
        "      if idx + word_length <= len(string[:,0]):\n",
        "        pieces.append(string[idx:idx+word_length])\n",
        "      else:\n",
        "        pieces.append(string[idx:])\n",
        "      idx += jump\n",
        "    return pieces\n",
        "\n",
        "def edit_distance_dp(seq1, seq2):\n",
        "  cost = np.zeros((len(seq1), len(seq2)))\n",
        "  for row in range(len(seq1)):\n",
        "    for col in range(len(seq2)):\n",
        "      ins_cost = (abs(seq1[row]))\n",
        "      del_cost = (abs(seq2[col]))\n",
        "      sub_cost = (abs(seq1[row]-seq2[col]))\n",
        "      if seq1[row-1] == seq2[col-1]:\n",
        "        cost[row][col] = cost[row-1][col-1]\n",
        "      else: \n",
        "        insertion_cost = cost[row-1][col] + ins_cost\n",
        "        deletion_cost = cost[row][col-1] + del_cost\n",
        "        substitution_cost = cost[row-1][col-1] + sub_cost\n",
        "        cost[row][col]= min(insertion_cost, deletion_cost, substitution_cost)\n",
        "  return cost[len(seq1)-1, len(seq2)-1]     \n",
        "\n",
        "def edit_distance(vects):\n",
        "  word_length=4\n",
        "  overlap_rate=0.3\n",
        "  x,y= vects\n",
        "  modx= split_into_pieces(x,word_length,overlap_rate)\n",
        "  mody= split_into_pieces(y,word_length,overlap_rate)\n",
        "  answer=[]\n",
        "  row=0\n",
        "  col=0\n",
        "  bipartite_matrix=[[0]*len(x)]*len(x[0])\n",
        "  for a in range(len(x)):\n",
        "    word1=(modx[a])\n",
        "    for b in range(len(x)):\n",
        "      word2=(mody[b])\n",
        "      bipartite_matrix[a][b]=edit_distance_dp(word1, word2)\n",
        "  row,col= linear_sum_assignment(bipartite_matrix)\n",
        "  answer.append(np.array(bipartite_matrix)[row,col].sum())\n",
        "  return math.sqrt(np.mean(np.array(answer)**2))\n",
        "\n",
        "\n",
        "\n",
        "  "
      ]
    },
    {
      "cell_type": "code",
      "execution_count": null,
      "metadata": {
        "id": "mscJ09Lxuyfn"
      },
      "outputs": [],
      "source": [
        "def initialize_base_network():\n",
        "    input = Input(shape=(1025,min,), name=\"base_input\")\n",
        "    x = Flatten(name=\"flatten_input\")(input)\n",
        "    x = Dense(32, activation='relu', name=\"first_base_dense\")(x)\n",
        "    x = Dropout(0.1, name=\"first_dropout\")(x)\n",
        "    x = Dense(16, activation='relu', name=\"second_base_dense\")(x)\n",
        "    x = Dropout(0.1, name=\"second_dropout\")(x)\n",
        "    x = Dense(8, activation='relu', name=\"third_base_dense\")(x)\n",
        "    return Model(inputs=input, outputs=x)\n",
        "\n",
        "def initialize_base_network_2():\n",
        "    input = Input(shape=(1025,min,1), name=\"base_input\")\n",
        "    x= Conv2D(16, kernel_size =(2, 2), strides =(1, 1),activation ='relu')(input)\n",
        "    x= MaxPooling2D(pool_size =(10, 10), strides =(2, 2))(x)\n",
        "    x=Conv2D(8, (5, 5), activation ='relu')(x)\n",
        "    x=MaxPooling2D(pool_size =(2, 2))(x)\n",
        "    x=Flatten()(x)\n",
        "    x=Dense(8, activation ='relu')(x)\n",
        "    return Model(inputs=input, outputs=x)\n",
        "\n",
        "\n",
        "def euclidean_distance(vects):\n",
        "    x, y = vects\n",
        "    sum_square = K.sum(K.square(x - y), axis=1, keepdims=True)\n",
        "    return K.sqrt(K.maximum(sum_square, K.epsilon()))\n",
        "\n",
        "\n",
        "def edit_dist_output_shape(shapes):\n",
        "    shape1, shape2 = shapes\n",
        "    return (shape1[0], 1)"
      ]
    },
    {
      "cell_type": "code",
      "execution_count": null,
      "metadata": {
        "id": "84ZqIdGyu57R"
      },
      "outputs": [],
      "source": [
        "base_network = initialize_base_network_2()"
      ]
    },
    {
      "cell_type": "code",
      "execution_count": null,
      "metadata": {
        "id": "PtC9Oselu8vH"
      },
      "outputs": [],
      "source": [
        "# create the left input and point to the base network\n",
        "input_a = Input(shape=(1025,min,), name=\"left_input\")\n",
        "vect_output_a = base_network(input_a)\n",
        "\n",
        "# create the right input and point to the base network\n",
        "input_b = Input(shape=(1025,min,), name=\"right_input\")\n",
        "vect_output_b = base_network(input_b)\n",
        "\n",
        "# measure the similarity of the two vector outputs\n",
        "output = Lambda(euclidean_distance, name=\"output_layer\", output_shape=edit_dist_output_shape)([vect_output_a, vect_output_b])\n",
        "\n",
        "# specify the inputs and output of the model\n",
        "model = Model([input_a, input_b], output)"
      ]
    },
    {
      "cell_type": "code",
      "execution_count": null,
      "metadata": {
        "id": "1ms_lS5cGemy"
      },
      "outputs": [],
      "source": [
        "def contrastive_loss_with_margin(margin):\n",
        "    def contrastive_loss(y_true, y_pred):\n",
        "        '''Contrastive loss from Hadsell-et-al.'06\n",
        "        http://yann.lecun.com/exdb/publis/pdf/hadsell-chopra-lecun-06.pdf\n",
        "        '''\n",
        "        square_pred = K.square(y_pred)\n",
        "        margin_square = K.square(K.maximum(margin - y_pred, 0))\n",
        "        return K.mean(y_true * square_pred + (1 - y_true) * margin_square)\n",
        "    return contrastive_loss"
      ]
    },
    {
      "cell_type": "code",
      "execution_count": null,
      "metadata": {
        "id": "3E7nIK1v77ku"
      },
      "outputs": [],
      "source": [
        "trim=5\n",
        "tr_pairs_1=input_X1_mod[:trim]\n",
        "tr_pairs_2=input_X2_mod[:trim]\n",
        "tr_y=labelling_mod[:trim]\n",
        "\n",
        "ts_pairs_1=input_X1_mod[trim:]\n",
        "ts_pairs_2=input_X2_mod[trim:]\n",
        "ts_y=labelling_mod[trim:]"
      ]
    },
    {
      "cell_type": "code",
      "execution_count": null,
      "metadata": {
        "id": "Gt1IMkNe7pFt",
        "colab": {
          "base_uri": "https://localhost:8080/"
        },
        "outputId": "65546259-f854-4d45-8653-8345da5bfbf0"
      },
      "outputs": [
        {
          "output_type": "stream",
          "name": "stdout",
          "text": [
            "Epoch 1/20\n"
          ]
        }
      ],
      "source": [
        "rms = RMSprop()\n",
        "model.compile(loss='binary_crossentropy', optimizer=rms)\n",
        "history = model.fit([tr_pairs_1, tr_pairs_2], tr_y, epochs=20, batch_size=128, validation_data=([ts_pairs_1, ts_pairs_2], ts_y))\n"
      ]
    },
    {
      "cell_type": "code",
      "execution_count": null,
      "metadata": {
        "id": "u7ltqCLi7ss8"
      },
      "outputs": [],
      "source": [
        "def compute_accuracy(y_true, y_pred):\n",
        "    pred = y_pred.ravel() < 0.5\n",
        "    return np.mean(pred == y_true)"
      ]
    },
    {
      "cell_type": "code",
      "execution_count": null,
      "metadata": {
        "id": "WJo-X3au71Iv"
      },
      "outputs": [],
      "source": [
        "loss = model.evaluate(x=[ts_pairs_1,ts_pairs_2], y=ts_y)\n",
        "\n",
        "y_pred_train = model.predict([tr_pairs_1, tr_pairs_2])\n",
        "train_accuracy = compute_accuracy(tr_y, y_pred_train)\n",
        "\n",
        "y_pred_test = model.predict([ts_pairs_1, ts_pairs_2])\n",
        "test_accuracy = compute_accuracy(ts_y, y_pred_test)\n",
        "\n",
        "print(\"Loss = {}, Train Accuracy = {} Test Accuracy = {}\".format(loss, train_accuracy, test_accuracy))"
      ]
    },
    {
      "cell_type": "code",
      "execution_count": null,
      "metadata": {
        "id": "oi4e8eRWP2qg"
      },
      "outputs": [],
      "source": [
        "print((input_X1[1][2]))"
      ]
    },
    {
      "cell_type": "code",
      "execution_count": null,
      "metadata": {
        "id": "SkWVFIDK_TIR"
      },
      "outputs": [],
      "source": [
        "def model(M0, M1, y):\n",
        "  temp_size=len(M0[0][0,:])\n",
        "  temp_length=len(M0[0][:])\n",
        "  model = Sequential()\n",
        "  model.add(Conv2D(10, kernel_size =(2, 2), strides =(1, 1),activation ='relu'))\n",
        "  model.add(MaxPooling2D(pool_size =(10, 10), strides =(2, 2)))\n",
        "  #model.add(Conv2D(64, (5, 5), activation ='relu'))\n",
        "  #model.add(MaxPooling2D(pool_size =(2, 2)))\n",
        "  model.add(Flatten())\n",
        "  model.add(Dense(2, activation ='relu'))\n",
        "\n",
        "  input1 = Input((temp_length,temp_size,1))\n",
        "  input2 = Input((temp_length,temp_size,1))\n",
        "\n",
        "  # Create left and right twin models\n",
        "  left_model = model(input1)\n",
        "  right_model = model(input2)\n",
        "  # Dot product layer\n",
        "  dot_product = dot([left_model, right_model], axes=1, normalize=False)\n",
        "  \n",
        "  siamese_model = Model(inputs=[input1, input2], outputs=dot_product)\n",
        "\n",
        "  # Compile model    \n",
        "  siamese_model.compile(optimizer='adam', loss= 'mse')\n",
        "\n",
        "  # Plot flowchart fo model\n",
        "  plot_model(siamese_model, to_file=os.getcwd()+'/siamese_model_mnist.png', show_shapes=1, show_layer_names=1)\n",
        "\n",
        "\n",
        "  # Fit model\n",
        "  siamese_model.fit([M0, M1], y, epochs=10, batch_size=5, shuffle=True, verbose=True)\n",
        "\n",
        "  model.save(os.getcwd()+\"/color_encoder.h5\")\n",
        "  siamese_model.save(os.getcwd()+\"/color_siamese_model.h5\")\n",
        "  siamese_model.evaluate(M0[23:,:,:], M1[23:,:,:])\n",
        "  return dot_product\n"
      ]
    }
  ],
  "metadata": {
    "colab": {
      "provenance": [],
      "authorship_tag": "ABX9TyNMk0+0Hr74XHkaJN6yd3gJ",
      "include_colab_link": true
    },
    "kernelspec": {
      "display_name": "Python 3",
      "name": "python3"
    },
    "language_info": {
      "name": "python"
    }
  },
  "nbformat": 4,
  "nbformat_minor": 0
}